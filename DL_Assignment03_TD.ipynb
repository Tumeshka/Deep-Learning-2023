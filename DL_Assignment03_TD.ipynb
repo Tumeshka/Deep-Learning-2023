{
  "cells": [
    {
      "cell_type": "markdown",
      "metadata": {
        "id": "v0yzEZOqt4_5"
      },
      "source": [
        "# Assignment 3: Universal Function Approximator\n",
        "\n",
        "\n",
        "The goal of this exercise is to train a two-layer fully-connected network to perform one-dimensional non-linear regression via gradient descent. To show the flexibility of the approach, three different functions will be approximated. First, the network and its gradient need to be implemented. Second, target data for three different functions will be generated. Finally, the training procedure will be applied to the data, and the resulting approximated function will be plotted together with the data samples.\n",
        "\n",
        "## Network Implementation\n",
        "\n",
        "A two-layer network is defined by parameters $\\Theta=(\\mathbf W^{(1)},\\vec w^{(2)})$ that are split into $\\mathbf W^{(1)}\\in\\mathbb R^{K\\times {(D+1)}}$ for the first layer and $\\vec w^{(2)}\\in\\mathbb R^{K+1}$ for the second layer. In our case, since we have only a single input, we have $D=1$.\n",
        "For a given input $\\vec x = (1, x)^T$, the network is implemented in three steps:\n",
        "\n",
        "1. Compute the first layer output, aka, the activation: $\\vec a_- = \\mathbf W^{(1)} \\vec x$\n",
        "2. Apply the activation function for each element of $\\vec a_- : \\vec h_- = g(\\vec a_-)$ and prepend the bias neuron $h_0=1$ to arrive at $\\vec h$.\n",
        "3. Compute the output of the network: $y = \\vec w^{(2)}\\ ^T\\vec h$.\n",
        "\n",
        "### Task 1  \n",
        "Implement a function that returns the network output for a given input $\\vec x$ and parameters $\\Theta=(\\mathbf W^{(1)}, \\vec w^{(2)})$. Remember that the input of the function $\\vec x = (1, x)^T$. Also remember to prepend $h_0=1$ in your implementation.\n",
        "\n",
        "We use hyperbolic tangent $(\\tanh)$ as the activation function:\n",
        "\n",
        "\\begin{equation*}\n",
        "    \\tanh(a) = \\frac{e^{a}-e^{-a}}{e^{a}+e^{-a}}\n",
        "\\end{equation*}\n",
        "\n",
        "Note:\n",
        "\n",
        "1. Use the `numpy` implemention of the hyperbolic tangent function.\n",
        "2. Use `numpy.concatenate` or `numpy.insert` to prepend $h_0$.\n",
        "3. Make use of `numpy.dot` to compute matrix-vector and vector-vector products."
      ]
    },
    {
      "cell_type": "code",
      "execution_count": 100,
      "metadata": {
        "id": "A79688Xnt4_-"
      },
      "outputs": [],
      "source": [
        "import numpy as np\n",
        "import math\n",
        "\n",
        "def network(x, Theta):\n",
        "  W1, w2 = Theta\n",
        "  a_ = W1.dot(x)\n",
        "  h_ = np.tanh(a_)\n",
        "  h = np.insert(h_,0,1,axis = 0)\n",
        "  y = w2.dot(h)\n",
        "  return y, h"
      ]
    },
    {
      "cell_type": "markdown",
      "metadata": {
        "id": "cfc5EEoxt5AA"
      },
      "source": [
        "Test 1: Sanity Check\n",
        "----------------------------\n",
        "\n",
        "We select a specific number of hidden neurons and create the weights accordingly, using all zeros in the first layer and all ones in the second. The test case below assures that the function from Task 1 actually returns $1$ for those weights.\n",
        "\n",
        "Note: your function should pass the test below."
      ]
    },
    {
      "cell_type": "code",
      "execution_count": 101,
      "metadata": {
        "colab": {
          "base_uri": "https://localhost:8080/"
        },
        "id": "nmGAnpkCt5AC",
        "outputId": "f15ac81f-e41f-4ece-a62f-492fcb8698e4"
      },
      "outputs": [
        {
          "output_type": "stream",
          "name": "stdout",
          "text": [
            "Test passed\n"
          ]
        }
      ],
      "source": [
        "K = 20\n",
        "D = 1\n",
        "W1 = np.zeros((K, D+1))\n",
        "w2 = np.ones(K+1)\n",
        "x = np.random.rand(D+1)\n",
        "\n",
        "y, _ = network(x, (W1, w2))\n",
        "assert abs(1 - y) < 1e-6\n",
        "print(\"Test passed\")"
      ]
    },
    {
      "cell_type": "markdown",
      "metadata": {
        "id": "nYgOXRYWt5AE"
      },
      "source": [
        "## Gradient Implementation\n",
        "\n",
        "In order to perform gradient descent, we need to define a loss function. As provided in the lecture, the $\\mathcal J^{L_2}$ loss function is defined over a dataset $X=\\{(\\vec x^{[n]}, t^{[n]})\\}$, that is defined as a list of tuples, as follows:\n",
        "\n",
        "$$\n",
        "   \\mathcal J^{L_2} = \\frac{1}{N}\\sum_{i=1}^N (y^{[n]}-t^{[n]})^2\n",
        "$$\n",
        "\n",
        "where $y^{[n]}$ is the output of the network from Task 1 when inputting $\\vec x^{[n]}$. Interestingly, however, we never explicitly need to compute the output of the loss function. It is only used to analytically compute the gradient as shown in the lecture.\n",
        "\n",
        "The gradient is composed of two items, one for each layer. Particularly, for a given dataset $X$, the gradient of loss $J^{L_2}$ is defined as:\n",
        "\n",
        "\\begin{align}\n",
        "  \\frac{\\partial \\mathcal J}{\\partial w_{kd}^{(1)}} &= \\frac{2}{N} \\sum\\limits_{n=1}^N (y^{[n]}-t^{[n]}) w_{k}^{(2)} (1-h_{k}^{[n]}\\cdot h_{k}^{[n]}) x_{d}^{[n]}\\\\\n",
        "  \\frac{\\partial \\mathcal J}{\\partial w_{k}^{(2)}} &= \\frac{2}{N} \\sum\\limits_{n=1}^N (y^{[n]}-t^{[n]}) w_{k}^{(2)} h_{k}^{[n]}\n",
        "\\end{align}\n",
        "\n",
        "### Task 2\n",
        "Implement a function that returns the gradient as defined in $(1)$ and $(2)$ for a given dataset $X$, and given weights $\\Theta=(\\mathbf W^{(1)},\\vec w^{(2)})$. Make sure that both parts of the gradient are computed. \n",
        "\n",
        "Hint:\n",
        "\n",
        "1. Make use of the the function implemented in Task 1 where appropriate\n",
        "\n",
        "Note:\n",
        "\n",
        "  1. This is a slow implementation. We will see how to speed this up in the next lecture.\n",
        "  2. You can make use of `numpy.zeros` to initialize the gradient.\n",
        "  3. The outper product can be computed via `numpy.outer`.\n",
        "  4. Remember that we used the $\\tanh$ activation function in our network."
      ]
    },
    {
      "cell_type": "code",
      "execution_count": 102,
      "metadata": {
        "id": "H7GsDRhwt5AF"
      },
      "outputs": [],
      "source": [
        "def gradient(X, Theta):\n",
        "  # split parameters for easier handling\n",
        "  W1, w2 = Theta\n",
        "  \n",
        "  # define gradient with respect to both parameters\n",
        "  dW1 = np.zeros(W1.shape, dtype='float')\n",
        "  dw2 = np.zeros(w2.shape, dtype='float')\n",
        "\n",
        "  # iterate over dataset\n",
        "  for x, t in X:\n",
        "    # compute the gradient\n",
        "    y,h = network(x,Theta)\n",
        "    difference = (y - t)\n",
        "    #excluding the bias of first layer - match with the dimension of x for outerproduct\n",
        "    update_1 = np.multiply((1-h[1:]),h[1:])\n",
        "    update_2 = np.multiply(update_1,w2[1:])\n",
        "\n",
        "    #upgrade of the gradient\n",
        "    dW1 += np.outer(difference*update_2, x)\n",
        "    #print(dW1)\n",
        "    dw2 += difference*h\n",
        "    #print(dw2)\n",
        "  # anything else?\n",
        "    #normalization -> reduce the size of gradient -> makes them less sensitive to the size of the dataset = avoid large magnitude of the gradient_descent for further calculation\n",
        "    #The factor of 2/len(X) scales the gradients by a value that is proportional to the inverse of the size of the dataset\n",
        "  dW1 *= 2/len(x)\n",
        "  dw2 *= 2/len(x)\n",
        "  \n",
        "  return dW1, dw2"
      ]
    },
    {
      "cell_type": "markdown",
      "metadata": {
        "id": "o4281ykAt5AF"
      },
      "source": [
        "## Gradient Descent\n",
        "\n",
        "The procedure of gradient descent is the repeated application of two steps.\n",
        " \n",
        "1. The gradient of loss $\\nabla_{\\Theta}\\mathcal J^{L_2}$ is computed based on the current value of the parameters $\\Theta=(\\mathbf W^{(1)},\\vec w^{(2)})$.\n",
        "2. The weights are updated by moving a small step $\\eta$ into the direction of the negative gradient:\n",
        "\n",
        "$$\n",
        "    \\Theta = \\Theta - \\eta \\nabla_{\\Theta}\\mathcal J\n",
        "$$\n",
        "\n",
        "As stopping criterion, we select the number of training epochs to be 10000.\n",
        "\n",
        "### Task 3\n",
        "Implement a function that performs gradient descent for a given dataset $X$, given initial parameters $\\Theta$ and a given learning rate $\\eta$ and returns the optimized parameters $\\Theta^*$."
      ]
    },
    {
      "cell_type": "code",
      "execution_count": 103,
      "metadata": {
        "id": "eyyM1wW0t5AG"
      },
      "outputs": [],
      "source": [
        "def gradient_descent(X, Theta, eta):\n",
        "  epochs = 10000\n",
        "  W1, w2 = Theta\n",
        "  # perform iterative gradient descent\n",
        "  for epoch in range(epochs):\n",
        "    # compute the gradient\n",
        "    dW1, dw2 = gradient(X, Theta)\n",
        "\n",
        "    # update the parameters\n",
        "    W1 -= eta*dW1\n",
        "    w2 -= eta*dw2\n",
        "\n",
        "  # return optimized parameters\n",
        "  return Theta"
      ]
    },
    {
      "cell_type": "markdown",
      "metadata": {
        "id": "evd2R2nSt5AG"
      },
      "source": [
        "## Generate Datasets\n",
        "\n",
        "In total, we will test our gradient descent function with three different datasets. Particularly, we approximate:\n",
        "\n",
        "1. $X_1: t = \\sin(2x)$ for $x\\in[-2,2]$\n",
        "2. $X_2: t = e^{-2x^2}$ for $x\\in[-2,2]$\n",
        "3. $X_3: t = -x^5 - 3x^4 + 11x^3 + 27x^2 - 10x - 64$ for $x\\in[-4.5,3.5]$\n",
        "\n",
        "### Task 4\n",
        "\n",
        "Generate dataset $X_1$, for $N=50$ samples randomly drawn from range $x\\in[-2,2]$. \n",
        "Generate data $X_2$ for $N=30$ samples randomly drawn from range $x\\in[-2,2]$. \n",
        "Generate dataset $X_3$ for $N=200$ samples randomly drawn from range $x\\in[-4.5,3.5]$. \n",
        "Implement all three datasets as lists of tuples: $\\{(\\vec x^{[n]}, t^{[n]})\\mid 1\\leq n\\leq N\\}$.\n",
        "\n",
        "Note:\n",
        "\n",
        "  1. You can use `numpy.random.uniform` to create uniformly distributed samples for $x$.\n",
        "  2. Make sure that $\\vec x = (1, x)^T$ for each sample.\n",
        "  3. You can make use of `numpy.sin`, `numpy.exp` and `numpy.pow` to compute target values."
      ]
    },
    {
      "cell_type": "code",
      "execution_count": 104,
      "metadata": {
        "id": "6XFq9ldTt5AI",
        "colab": {
          "base_uri": "https://localhost:8080/"
        },
        "outputId": "d90ea780-35f9-412d-928e-4ad9a6062d95"
      },
      "outputs": [
        {
          "output_type": "stream",
          "name": "stdout",
          "text": [
            "[(array([1.       , 2.5178308]), 35.81075441725261), (array([ 1.        , -2.97269366]), -86.77254691419157), (array([1.        , 0.59655514]), -58.47703550722586), (array([1.        , 0.98559329]), -40.857728630056755), (array([ 1.        , -2.70452772]), -72.87629134268353), (array([ 1.        , -1.85003591]), -36.21164179749283), (array([1.        , 1.52787467]), -1.6908532016527573), (array([1.        , 2.85617912]), -5.725125323261487), (array([ 1.       , -3.8415546]), -67.46375163906026), (array([1.       , 1.6975115]), 11.627764359430756), (array([ 1.        , -3.46420706]), -95.78741918881363), (array([ 1.        , -2.72466959]), -73.98653104147547), (array([ 1.        , -3.47788048]), -95.46193601136926), (array([1.        , 3.37803013]), -196.16588880985037), (array([1.        , 0.31075451]), -64.2009738575187), (array([ 1.        , -3.85334006]), -65.79664006968868), (array([1.        , 1.45753342]), -7.273405730109964), (array([1.        , 0.66227772]), -56.28949833414663), (array([ 1.        , -2.84119153]), -80.26919344229745), (array([ 1.       , -2.9709414]), -86.69206956082382), (array([ 1.        , -1.72892854]), -34.208988020343796), (array([1.        , 2.12454841]), 37.70483199991486), (array([ 1.        , -0.38194551]), -56.91034776778649), (array([1.       , 3.0658797]), -59.80761787287989), (array([ 1.        , -4.49138192]), 135.83301777412768), (array([1.        , 2.49402665]), 37.08358608218364), (array([ 1.        , -3.37000758]), -96.94166587574111), (array([1.        , 2.57754661]), 31.786538120701863), (array([ 1.      , -0.589147]), -51.27681742598211), (array([ 1.        , -3.06328281]), -90.62918287279945), (array([ 1.        , -1.82014654]), -35.62911408254984), (array([1.        , 1.02092668]), -38.73048767090114), (array([1.        , 2.05792029]), 34.91931970665638), (array([1.        , 1.73048815]), 14.131182510712975), (array([ 1.        , -4.19000807]), 9.534406746978974), (array([1.        , 1.93865764]), 28.477552766508552), (array([1.        , 2.96312305]), -30.08485189452538), (array([1.       , 0.9496477]), -42.938653347243175), (array([1.        , 1.20943547]), -26.14709519976877), (array([1.        , 2.99932027]), -39.8098156508856), (array([1.        , 2.31541887]), 41.3677886476367), (array([ 1.        , -3.54551708]), -93.19791900824816), (array([ 1.        , -3.55406795]), -92.83011860021526), (array([1.        , 0.64183862]), -57.00509511159947), (array([1.       , 2.1982184]), 39.952507727870056), (array([1.        , 1.75868095]), 16.23446363473903), (array([1.        , 1.12062391]), -32.317986623592546), (array([ 1.        , -4.36761223]), 75.91255906212749), (array([ 1.        , -0.32071654]), -58.40686052329167), (array([ 1.        , -3.51236017]), -94.44756601018787), (array([ 1.       , -1.5167639]), -32.9508067534739), (array([1.        , 0.80838316]), -50.2552010371804), (array([1.       , 2.2639636]), 41.10392657108687), (array([1.        , 0.17132065]), -64.86815551742615), (array([1.        , 3.40471371]), -211.55759297389753), (array([1.        , 1.88986585]), 25.406018845383144), (array([ 1.        , -1.79267697]), -35.14478420834381), (array([ 1.        , -3.32703977]), -96.89427853152861), (array([1.        , 1.10043003]), -33.66340696229503), (array([ 1.        , -1.72447027]), -34.15335470659541), (array([1.        , 1.72729056]), 13.890360733726439), (array([ 1.        , -2.69493769]), -72.34647409600272), (array([1.        , 3.04710099]), -53.87924341427648), (array([1.        , 2.59130799]), 30.68236536930823), (array([1.        , 1.62086755]), 5.673680145305468), (array([1.        , 2.65689413]), 24.44708945196318), (array([ 1.        , -1.55608488]), -32.974225271326546), (array([1.       , 2.5033487]), 36.60679354453103), (array([1.        , 2.77773229]), 8.337048872197471), (array([1.       , 3.0996659]), -71.06167566059526), (array([1.       , 2.3480393]), 41.21712010895568), (array([1.        , 1.83989966]), 22.051347486200157), (array([ 1.        , -3.41701574]), -96.59434448764975), (array([ 1.       , -1.6247283]), -33.24040202718664), (array([ 1.       , -3.0510411]), -90.14622178307039), (array([1.        , 0.72430644]), -53.923514280005186), (array([1.        , 0.68871379]), -55.31679687492799), (array([ 1.        , -0.95946145]), -40.99506109523708), (array([1.        , 0.73359205]), -53.544304357499605), (array([ 1.        , -2.92103991]), -84.32201235394919), (array([1.        , 2.56848399]), 32.47663263067818), (array([ 1.        , -4.29308528]), 45.435305172995584), (array([ 1.        , -1.99373129]), -39.813158099928174), (array([1.        , 1.16047342]), -29.598408499182504), (array([1.       , 0.5478338]), -59.8860259559945), (array([1.        , 0.70838149]), -54.55873853077658), (array([ 1.        , -1.27154251]), -34.763213929366614), (array([ 1.        , -1.76863595]), -34.76101649703436), (array([ 1.       , -2.1952595]), -46.99201786038188), (array([ 1.        , -3.15488573]), -93.78457902099726), (array([ 1.        , -0.39276268]), -56.63580353020434), (array([1.        , 0.55324864]), -59.73836527899181), (array([ 1.        , -1.10418682]), -37.66593912071693), (array([ 1.        , -1.12597875]), -37.22415523852591), (array([1.        , 2.42976935]), 39.64489845843029), (array([ 1.        , -0.26968545]), -59.56962861343213), (array([1.        , 0.68478072]), -55.46487375256878), (array([ 1.        , -3.31298048]), -96.80822931899725), (array([1.        , 0.71571699]), -54.2685127351736), (array([ 1.        , -0.83738513]), -44.2157807883671), (array([ 1.        , -4.19445276]), 10.941811596194), (array([1.        , 1.31160976]), -18.607392368418573), (array([1.        , 0.52587917]), -60.461883799814146), (array([ 1.        , -2.00173736]), -40.05221431816399), (array([ 1.        , -2.12431789]), -44.19733133520697), (array([1.        , 1.30394192]), -19.187032037004734), (array([1.        , 1.52214814]), -2.1460761195403038), (array([1.        , 1.92853395]), 27.85850517284115), (array([1.        , 3.44713587]), -237.39469502773917), (array([1.        , 2.24700808]), 40.890609461501015), (array([ 1.        , -0.33220984]), -58.13388609683776), (array([ 1.        , -4.33395892]), 61.65637931528158), (array([1.        , 2.01919959]), 33.014652026198235), (array([ 1.        , -3.99060658]), -41.95090820463648), (array([ 1.        , -1.89590904]), -37.21798347385603), (array([1.        , 3.06736557]), -60.286551821460726), (array([ 1.       , -0.8293991]), -44.435788711165685), (array([1.       , 1.0963029]), -33.935571235062724), (array([1.        , 1.42153877]), -10.111308604000875), (array([ 1.        , -1.00467681]), -39.88806409679205), (array([ 1.        , -1.73271519]), -34.25724497079567), (array([ 1.        , -3.01903301]), -88.82411320937226), (array([1.        , 2.64134561]), 26.07513853031361), (array([1.       , 1.8555958]), 23.12587502346757), (array([ 1.        , -1.75330682]), -34.53584173658349), (array([1.        , 2.62623021]), 27.567111771128722), (array([ 1.        , -2.28220864]), -50.776584950456936), (array([1.       , 2.6932996]), 20.253354079869126), (array([1.        , 0.70336983]), -54.754684689267435), (array([1.        , 3.26369444]), -137.30901806925834), (array([ 1.        , -3.24028411]), -95.85663993018696), (array([ 1.        , -1.46883663]), -33.04564813710903), (array([1.       , 2.7992448]), 4.780395585747499), (array([ 1.        , -0.64680048]), -49.6248578314995), (array([ 1.       , -0.9257378]), -41.85411846160994), (array([ 1.        , -3.95471408]), -49.01280020143945), (array([1.       , 0.6292919]), -57.428597033776896), (array([ 1.        , -2.17480643]), -46.15806111944818), (array([1.        , 2.18427034]), 39.60039823406531), (array([1.        , 1.01497642]), -39.094274833532864), (array([1.        , 0.35559942]), -63.70084944912695), (array([ 1.        , -1.86790578]), -36.58752231158873), (array([1.        , 2.60871606]), 29.18647062883602), (array([1.        , 2.26596127]), 41.125061504063524), (array([1.        , 1.23788323]), -24.090631942846336), (array([ 1.        , -1.56694976]), -32.99710621073288), (array([ 1.        , -3.73179849]), -80.41704763699508), (array([ 1.        , -1.38422688]), -33.530821358505946), (array([ 1.        , -0.69865594]), -48.13382662640501), (array([1.        , 1.99629091]), 31.798899987614945), (array([1.        , 2.45438821]), 38.80946527560894), (array([ 1.        , -1.81306361]), -35.499552612871796), (array([ 1.        , -4.01336541]), -37.148899874191514), (array([ 1.        , -2.50808892]), -62.08925897504416), (array([ 1.        , -4.27098833]), 37.148944040072365), (array([ 1.        , -1.34874717]), -33.84947925245792), (array([1.        , 0.03179951]), -64.29034180995812), (array([ 1.        , -0.88028144]), -43.05120828044214), (array([1.        , 0.52102692]), -60.5842188369904), (array([ 1.        , -1.88787618]), -37.031968968210435), (array([ 1.       , -1.3326509]), -34.01553838016122), (array([ 1.        , -0.19594322]), -61.09082307388034), (array([1.       , 3.2096313]), -113.2386013259528), (array([ 1.        , -1.90033667]), -37.32228506019429), (array([ 1.        , -0.51799252]), -53.283068643342524), (array([ 1.        , -1.18079635]), -36.19300673943486), (array([ 1.        , -3.32840833]), -96.90084987213196), (array([ 1.        , -2.13923922]), -44.76201010696281), (array([ 1.        , -2.25343535]), -49.48286051804811), (array([1.        , 1.71665001]), 13.08590027708722), (array([1.        , 3.25626362]), -133.863232769144), (array([1.        , 1.35208316]), -15.516649596160427), (array([1.        , 3.34050219]), -175.60534633359532), (array([ 1.        , -2.45277663]), -59.16117140319321), (array([ 1.        , -0.25311745]), -59.92863802860036), (array([1.        , 1.16413844]), -29.34413693119709), (array([1.        , 1.70424806]), 12.142580357976101), (array([ 1.        , -3.50091356]), -94.8157293592412), (array([1.        , 2.09740382]), 36.64988610753517), (array([1.        , 0.67701094]), -55.75394781031713), (array([1.       , 0.0424997]), -64.37539447033149), (array([ 1.       , -1.5980975]), -33.10265911997531), (array([ 1.        , -0.96912016]), -40.75408147181722), (array([ 1.        , -2.73695538]), -74.66154651265454), (array([ 1.        , -4.19807497]), 12.097831645774065), (array([1.        , 0.73274982]), -53.578967021316664), (array([ 1.        , -0.69518886]), -48.233412230445154), (array([1.        , 0.84880535]), -48.306246974264965), (array([1.        , 2.64184383]), 26.02444869311458), (array([1.        , 3.27576666]), -143.00251428080915), (array([1.      , 1.786916]), 18.300997054451415), (array([1.        , 3.20115835]), -109.67241180153931), (array([1.        , 2.31530522]), 41.36786890444179), (array([ 1.        , -3.86802424]), -63.63981350266987), (array([ 1.        , -3.05057847]), -90.12771546365897), (array([1.        , 3.17920867]), -100.68646824150316), (array([ 1.      , -4.383482]), 82.92641309469482), (array([1.        , 1.97775379]), 30.77008629766226), (array([ 1.        , -4.03038597]), -33.388041330516046), (array([1.        , 2.89224622]), -13.240403181866874)]\n"
          ]
        }
      ],
      "source": [
        "X1 = [(np.array((1,x)),(np.sin(2*x))) for x in np.random.uniform(-2,2,50)]\n",
        "X2 = [(np.array((1,x)),(np.exp(-2*x**2))) for x in np.random.uniform(-2,2,30)]\n",
        "X3 = [(np.array((1,x)),(-x**5-3*x**4+11*x**3+27*x**2-10*x-64)) for x in np.random.uniform(-4.5,3.5,200)]\n",
        "print(X3)"
      ]
    },
    {
      "cell_type": "markdown",
      "metadata": {
        "id": "IUXcmNokt5AI"
      },
      "source": [
        "### Test 2: Sanity Check\n",
        "\n",
        "The test case below assures that the elements of each generated dataset are tuples with two elements, that the first element ($\\vec x$) is a vector with two numbers, and that the second element ($t$) is a float."
      ]
    },
    {
      "cell_type": "code",
      "execution_count": 105,
      "metadata": {
        "id": "sM4bmeUmt5AJ",
        "colab": {
          "base_uri": "https://localhost:8080/"
        },
        "outputId": "40906177-b85c-4a09-8bb5-18db7902484d"
      },
      "outputs": [
        {
          "output_type": "stream",
          "name": "stdout",
          "text": [
            "Test passed!\n"
          ]
        }
      ],
      "source": [
        "assert all(\n",
        "    isinstance(x, (tuple,list)) and \n",
        "    len(x) == 2 and \n",
        "    isinstance(x[0], (tuple,list,np.ndarray)) and \n",
        "    len(x[0] == 2) and \n",
        "    isinstance(x[1], float)\n",
        "    for X in (X1, X2, X3)\n",
        "    for x in X\n",
        ")\n",
        "\n",
        "print('Test passed!')"
      ]
    },
    {
      "cell_type": "markdown",
      "metadata": {
        "id": "noH7NNhEt5AK"
      },
      "source": [
        "## Function Approximation\n",
        "\n",
        "Finally, we want to make use of our gradient descent implementation to approximate our functions. In order to see our success, we want to plot the functions together with the data.\n",
        "\n",
        "### Task 5 (theoretical question)\n",
        "\n",
        "When looking at the example plots in the exercise slides (exemplary solutions for the plotting Task 8), how many hidden neurons $K$ do we need in order to approximate the functions? Is there any difference\n",
        "1 between the three target functions?"
      ]
    },
    {
      "cell_type": "code",
      "execution_count": 106,
      "metadata": {
        "id": "MxPwBg1-t5AL"
      },
      "outputs": [],
      "source": [
        "K1 = 6\n",
        "K2 = 30\n",
        "K3 = 100\n",
        "\n",
        "# found by looking at the number of turning points\n",
        "# turns out it was wrong, so i just increased the number after failing to fit the network"
      ]
    },
    {
      "cell_type": "markdown",
      "metadata": {
        "id": "G3oiwtIXt5AL"
      },
      "source": [
        "### Task 6\n",
        "\n",
        "For each of the datasets, randomly initialize the parameters $\\Theta_1,\\Theta_2,\\Theta_3\\in[-1,1]$ according to the number of hidden neurons estimated in Task 5.\n",
        "\n",
        "Note:\n",
        "\n",
        "  1. You can use `numpy.random.uniform` to initialize the weights.\n",
        "  2. Make sure that the weight matrices are instantiated in the correct dimensions."
      ]
    },
    {
      "cell_type": "code",
      "execution_count": 107,
      "metadata": {
        "id": "Bj-IATDtt5AL"
      },
      "outputs": [],
      "source": [
        "Theta1 = [np.random.uniform(-1,1, size = (K1,2)), np.random.uniform(-1,1, size = (K1 + 1))]\n",
        "Theta2 = [np.random.uniform(-1,1, size = (K2,2)), np.random.uniform(-1,1, size = (K2 + 1))]\n",
        "Theta3 = [np.random.uniform(-1,1, size = (K3,2)), np.random.uniform(-1,1, size = (K3 + 1))]"
      ]
    },
    {
      "cell_type": "markdown",
      "metadata": {
        "id": "xKxaP5iPt5AM"
      },
      "source": [
        "### Task 7\n",
        "\n",
        "Call gradient descent function from Task 3 using the datasets $X_1, X_2, X_3$, the according created parameters $\\Theta_1,\\Theta_2,\\Theta_3$ and a learning rate of $\\eta=0.1$. Store the resulting optimized weights $\\Theta_1^*, \\Theta_2^*, \\Theta_3^*$ and the loss values.\n",
        "\n",
        "Optimize the learning rate $\\eta$ for each of the three functions. Do you see any differences? What are the best learning rates that you can find?\n",
        "\n",
        "WARNING: Depending on the implementation, this might run for several minutes!"
      ]
    },
    {
      "cell_type": "code",
      "execution_count": 108,
      "metadata": {
        "id": "TzZiQuOnt5AM",
        "colab": {
          "base_uri": "https://localhost:8080/"
        },
        "outputId": "effebcbf-4c56-4105-968f-473fd56b11a4"
      },
      "outputs": [
        {
          "output_type": "stream",
          "name": "stderr",
          "text": [
            "<ipython-input-102-0c1a66f3b438>:19: RuntimeWarning: overflow encountered in multiply\n",
            "  dW1 += np.outer(difference*update_2, x)\n",
            "<ipython-input-102-0c1a66f3b438>:19: RuntimeWarning: invalid value encountered in add\n",
            "  dW1 += np.outer(difference*update_2, x)\n",
            "<ipython-input-102-0c1a66f3b438>:19: RuntimeWarning: overflow encountered in add\n",
            "  dW1 += np.outer(difference*update_2, x)\n",
            "/usr/local/lib/python3.9/dist-packages/numpy/core/numeric.py:936: RuntimeWarning: overflow encountered in multiply\n",
            "  return multiply(a.ravel()[:, newaxis], b.ravel()[newaxis, :], out)\n"
          ]
        }
      ],
      "source": [
        "New_Theta1 = gradient_descent(X1,Theta1,eta = 0.1)\n",
        "New_Theta2 = gradient_descent(X2,Theta2,eta = 0.1)\n",
        "New_Theta3 = gradient_descent(X3,Theta3,eta = 0.01)"
      ]
    },
    {
      "cell_type": "markdown",
      "metadata": {
        "id": "ej5XqI2Mt5AN"
      },
      "source": [
        "## Data and Function Plotting\n",
        "\n",
        "### Task 8\n",
        "\n",
        "Implement a plotting function that takes a given dataset $X$, given parameters $\\Theta$ and a defined range $R$. Each data sample $(x^{[n]},t^{[n]})$ of the dataset is plotted as an $''x''$. In order to plot the function that is approximated by the network, generate sufficient equally-spaced input values $x\\in R$, compute the network output $y$ for these inputs, and plot them with a line.\n",
        "\n",
        "Note:\n",
        "\n",
        "  1. The dataset $X$ is defined as above, a list of tuples $(\\vec x, t)$.\n",
        "  2. Each input in the dataset is defined as $\\vec x = (1,x)^T$.\n",
        "  3. Equidistant points can be obtained via `numpy.arange`."
      ]
    },
    {
      "cell_type": "code",
      "execution_count": 109,
      "metadata": {
        "id": "bH22_2fJt5AN"
      },
      "outputs": [],
      "source": [
        "from matplotlib import pyplot\n",
        "def plot(X, Theta, R):\n",
        "  # first, plot data samples\n",
        "  pyplot.plot([xi[0][1] for xi in X], [xi[1] for xi in X], \"rx\", label=\"Data\")\n",
        "\n",
        "  # define equidistant points from R[0] to R[1] to evaluate the network\n",
        "  x = np.linspace(R[0], R[1], num = 100)\n",
        "  # compute the network outputs for these values\n",
        "  y = []\n",
        "  for ind, val in enumerate(x): \n",
        "    y_t, h_t = network([1,val], Theta) \n",
        "    y.append(y_t)\n",
        "  # plot network approximation\n",
        "  pyplot.plot(x,y,\"k-\", label=\"network\")\n",
        "  pyplot.legend()"
      ]
    },
    {
      "cell_type": "markdown",
      "metadata": {
        "id": "ZYxqeZRdt5AO"
      },
      "source": [
        "### Task 9\n",
        "\n",
        "For each of the datasets and their according optimized parameters, call the plotting function from Task 8. Use range $R=[-3,3]$ for dataset $X_1$ and $X_2$, and range $R=[-5.5,4.5]$ for dataset $X_3$. Note that the first element of range $R$ should be the lowest $x$-location, and the second element of $R$ the highest value for $x$. Did the networks approximate the functions? What can we do if not?"
      ]
    },
    {
      "cell_type": "code",
      "execution_count": 110,
      "metadata": {
        "id": "5er_bJkQt5AO",
        "colab": {
          "base_uri": "https://localhost:8080/",
          "height": 211
        },
        "outputId": "86a64800-9e7d-4d18-9917-66d816dff202"
      },
      "outputs": [
        {
          "output_type": "display_data",
          "data": {
            "text/plain": [
              "<Figure size 720x216 with 3 Axes>"
            ],
            "image/png": "[encoded data removed]"
          },
          "metadata": {
            "needs_background": "light"
          }
        }
      ],
      "source": [
        "figure = pyplot.figure(figsize=(10,3))\n",
        "\n",
        "# plot first function\n",
        "pyplot.subplot(131)\n",
        "plot(X1,New_Theta1,[-3, 3]) \n",
        "3\n",
        "# plot second function\n",
        "pyplot.subplot(132)\n",
        "plot(X2,New_Theta2,[-3, 3]) \n",
        "\n",
        "# plot third function\n",
        "pyplot.subplot(133)\n",
        "plot(X3,New_Theta3,[-5.5, 4.5])"
      ]
    }
  ],
  "metadata": {
    "interpreter": {
      "hash": "2dd53f8ad749bca69f7250ce75eb4f0def59db5cf79075a9716322ffc58e8a2e"
    },
    "kernelspec": {
      "display_name": "Python 3 (ipykernel)",
      "language": "python",
      "name": "python3"
    },
    "language_info": {
      "name": "python",
      "version": "3.8.13"
    },
    "orig_nbformat": 4,
    "colab": {
      "provenance": []
    }
  },
  "nbformat": 4,
  "nbformat_minor": 0
}